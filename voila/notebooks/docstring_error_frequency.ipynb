{
 "cells": [
  {
   "cell_type": "code",
   "execution_count": 1,
   "metadata": {},
   "outputs": [],
   "source": [
    "import os\n",
    "import ipywidgets as widgets\n",
    "from ipywidgets import *\n",
    "from bqplot import *\n",
    "import numpy as np\n",
    "import pandas as pd\n",
    "import qgrid\n",
    "import seaborn as sns\n",
    "import matplotlib.pyplot as plt\n",
    "%matplotlib notebook\n",
    "import warnings\n",
    "warnings.filterwarnings(\"ignore\")"
   ]
  },
  {
   "cell_type": "markdown",
   "metadata": {},
   "source": [
    "# 1. Plots a bar graph representing the number of docstring errors.\n",
    "\n",
    "To generate the file in `json` format, the following command needs to be executed in `master` branch clone of pandas,\n",
    "after completing the development environment setup.\n",
    "\n",
    "`./scripts/validate_docstrings.py --format=json > /path/to/json/pandas_docstring_errors.json`\n",
    "\n",
    "This script currently supports pandas version >= 0.25.0"
   ]
  },
  {
   "cell_type": "code",
   "execution_count": 3,
   "metadata": {},
   "outputs": [
    {
     "data": {
      "text/html": [
       "<div>\n",
       "<style scoped>\n",
       "    .dataframe tbody tr th:only-of-type {\n",
       "        vertical-align: middle;\n",
       "    }\n",
       "\n",
       "    .dataframe tbody tr th {\n",
       "        vertical-align: top;\n",
       "    }\n",
       "\n",
       "    .dataframe thead th {\n",
       "        text-align: right;\n",
       "    }\n",
       "</style>\n",
       "<table border=\"1\" class=\"dataframe\">\n",
       "  <thead>\n",
       "    <tr style=\"text-align: right;\">\n",
       "      <th></th>\n",
       "      <th>index</th>\n",
       "      <th>errors</th>\n",
       "    </tr>\n",
       "  </thead>\n",
       "  <tbody>\n",
       "    <tr>\n",
       "      <th>0</th>\n",
       "      <td>pandas.Categorical</td>\n",
       "      <td>[PR01, Parameters {fastpath} not documented]</td>\n",
       "    </tr>\n",
       "    <tr>\n",
       "      <th>1</th>\n",
       "      <td>pandas.Categorical</td>\n",
       "      <td>[PR09, Parameter \"dtype\" description should fi...</td>\n",
       "    </tr>\n",
       "  </tbody>\n",
       "</table>\n",
       "</div>"
      ],
      "text/plain": [
       "                index                                             errors\n",
       "0  pandas.Categorical       [PR01, Parameters {fastpath} not documented]\n",
       "1  pandas.Categorical  [PR09, Parameter \"dtype\" description should fi..."
      ]
     },
     "execution_count": 3,
     "metadata": {},
     "output_type": "execute_result"
    }
   ],
   "source": [
    "path = '../json/pandas_docstring_errors.json.zip'\n",
    "df = (pd.read_json(path, compression='zip')\n",
    "            .transpose()\n",
    "            .filter(items=['errors'])\n",
    "            .explode('errors')\n",
    "            .dropna()\n",
    "            .reset_index()\n",
    "     )\n",
    "df.head(2)"
   ]
  },
  {
   "cell_type": "markdown",
   "metadata": {},
   "source": [
    "## 1) Split a list 'error' into separate data columns 'error_code' and 'error_name'"
   ]
  },
  {
   "cell_type": "code",
   "execution_count": 4,
   "metadata": {},
   "outputs": [
    {
     "data": {
      "text/html": [
       "<div>\n",
       "<style scoped>\n",
       "    .dataframe tbody tr th:only-of-type {\n",
       "        vertical-align: middle;\n",
       "    }\n",
       "\n",
       "    .dataframe tbody tr th {\n",
       "        vertical-align: top;\n",
       "    }\n",
       "\n",
       "    .dataframe thead th {\n",
       "        text-align: right;\n",
       "    }\n",
       "</style>\n",
       "<table border=\"1\" class=\"dataframe\">\n",
       "  <thead>\n",
       "    <tr style=\"text-align: right;\">\n",
       "      <th></th>\n",
       "      <th>error_code</th>\n",
       "      <th>error_name</th>\n",
       "    </tr>\n",
       "  </thead>\n",
       "  <tbody>\n",
       "    <tr>\n",
       "      <th>0</th>\n",
       "      <td>PR01</td>\n",
       "      <td>Parameters {fastpath} not documented</td>\n",
       "    </tr>\n",
       "    <tr>\n",
       "      <th>1</th>\n",
       "      <td>PR09</td>\n",
       "      <td>Parameter \"dtype\" description should finish wi...</td>\n",
       "    </tr>\n",
       "  </tbody>\n",
       "</table>\n",
       "</div>"
      ],
      "text/plain": [
       "  error_code                                         error_name\n",
       "0       PR01               Parameters {fastpath} not documented\n",
       "1       PR09  Parameter \"dtype\" description should finish wi..."
      ]
     },
     "execution_count": 4,
     "metadata": {},
     "output_type": "execute_result"
    }
   ],
   "source": [
    "df[['error_code','error_name']] = pd.DataFrame(df.errors.tolist(), index=df.index)\n",
    "df = df.drop([\"errors\",\"index\"], axis=1)\n",
    "df.head(2)"
   ]
  },
  {
   "cell_type": "markdown",
   "metadata": {},
   "source": [
    "## 2) Draw a count plot of errors based on error_code"
   ]
  },
  {
   "cell_type": "code",
   "execution_count": 5,
   "metadata": {
    "scrolled": false
   },
   "outputs": [
    {
     "data": {
      "text/html": [
       "<div>\n",
       "<style scoped>\n",
       "    .dataframe tbody tr th:only-of-type {\n",
       "        vertical-align: middle;\n",
       "    }\n",
       "\n",
       "    .dataframe tbody tr th {\n",
       "        vertical-align: top;\n",
       "    }\n",
       "\n",
       "    .dataframe thead th {\n",
       "        text-align: right;\n",
       "    }\n",
       "</style>\n",
       "<table border=\"1\" class=\"dataframe\">\n",
       "  <thead>\n",
       "    <tr style=\"text-align: right;\">\n",
       "      <th></th>\n",
       "      <th>error_code</th>\n",
       "      <th>counts</th>\n",
       "    </tr>\n",
       "  </thead>\n",
       "  <tbody>\n",
       "    <tr>\n",
       "      <th>0</th>\n",
       "      <td>GL08</td>\n",
       "      <td>517</td>\n",
       "    </tr>\n",
       "    <tr>\n",
       "      <th>1</th>\n",
       "      <td>PR09</td>\n",
       "      <td>459</td>\n",
       "    </tr>\n",
       "  </tbody>\n",
       "</table>\n",
       "</div>"
      ],
      "text/plain": [
       "  error_code  counts\n",
       "0       GL08     517\n",
       "1       PR09     459"
      ]
     },
     "execution_count": 5,
     "metadata": {},
     "output_type": "execute_result"
    }
   ],
   "source": [
    "df_code = df['error_code'].value_counts().reset_index()\n",
    "df_code.columns = ['error_code','counts']\n",
    "df_code.head(2)"
   ]
  },
  {
   "cell_type": "code",
   "execution_count": 6,
   "metadata": {},
   "outputs": [],
   "source": [
    "# Bar plot\n",
    "def pd_countplot(df, x,y):\n",
    "    df_plot=df.plot.bar(x, \n",
    "                y,\n",
    "                legend=False,\n",
    "                figsize=(8, 6))\n",
    "    df_plot.set_ylabel(\"Counts\")\n",
    "    df_plot.set_xlabel(\"\")\n",
    "    return df_plot"
   ]
  },
  {
   "cell_type": "code",
   "execution_count": 7,
   "metadata": {},
   "outputs": [
    {
     "data": {
      "image/png": "[encoded data removed]",
      "text/plain": [
       "<Figure size 576x432 with 1 Axes>"
      ]
     },
     "metadata": {
      "needs_background": "light"
     },
     "output_type": "display_data"
    }
   ],
   "source": [
    "plot_code = pd_countplot(df_code, 'error_code','counts')"
   ]
  },
  {
   "cell_type": "markdown",
   "metadata": {},
   "source": [
    "## 3) Check a frequency table of errors based on error_name"
   ]
  },
  {
   "cell_type": "code",
   "execution_count": 8,
   "metadata": {},
   "outputs": [
    {
     "data": {
      "text/html": [
       "<div>\n",
       "<style scoped>\n",
       "    .dataframe tbody tr th:only-of-type {\n",
       "        vertical-align: middle;\n",
       "    }\n",
       "\n",
       "    .dataframe tbody tr th {\n",
       "        vertical-align: top;\n",
       "    }\n",
       "\n",
       "    .dataframe thead th {\n",
       "        text-align: right;\n",
       "    }\n",
       "</style>\n",
       "<table border=\"1\" class=\"dataframe\">\n",
       "  <thead>\n",
       "    <tr style=\"text-align: right;\">\n",
       "      <th></th>\n",
       "      <th>error_name</th>\n",
       "    </tr>\n",
       "  </thead>\n",
       "  <tbody>\n",
       "    <tr>\n",
       "      <th>The object does not have a docstring</th>\n",
       "      <td>517</td>\n",
       "    </tr>\n",
       "    <tr>\n",
       "      <th>Return value has no description</th>\n",
       "      <td>355</td>\n",
       "    </tr>\n",
       "  </tbody>\n",
       "</table>\n",
       "</div>"
      ],
      "text/plain": [
       "                                      error_name\n",
       "The object does not have a docstring         517\n",
       "Return value has no description              355"
      ]
     },
     "execution_count": 8,
     "metadata": {},
     "output_type": "execute_result"
    }
   ],
   "source": [
    "df_name= pd.DataFrame(df['error_name'].value_counts())\n",
    "df_name.head(2)"
   ]
  },
  {
   "cell_type": "markdown",
   "metadata": {},
   "source": [
    "# 2. Make a barplot using bqplot"
   ]
  },
  {
   "cell_type": "code",
   "execution_count": 9,
   "metadata": {},
   "outputs": [],
   "source": [
    "x_scale = scales.OrdinalScale()"
   ]
  },
  {
   "cell_type": "code",
   "execution_count": 10,
   "metadata": {},
   "outputs": [],
   "source": [
    "# barplot function using bqplot\n",
    "def bq_barplot(df):\n",
    "    # scales\n",
    "    x_scale = scales.OrdinalScale()\n",
    "    y_scale = scales.LinearScale()\n",
    "    # x axis    \n",
    "    x_ax = Axis(label='', \n",
    "                    scale=x_scale,\n",
    "                    grid_lines='none',\n",
    "                    orientation='horizontal', \n",
    "                    tick_rotate = -45,\n",
    "                    tick_style = {'text-anchor': 'end'}) \n",
    "    # y axis\n",
    "    y_ax = Axis(label='Counts', \n",
    "                scale=y_scale,  \n",
    "                orientation='vertical', \n",
    "                grid_lines='none',\n",
    "                label_location ='middle',\n",
    "                label_offset ='50 px',\n",
    "                tick_format='0f')\n",
    "\n",
    "    # bar chart\n",
    "    bar_chart = Bars(x=df.error_code,\n",
    "                     y=df.counts,\n",
    "                     scales={'x': x_scale, 'y': y_scale})\n",
    "    # Figure\n",
    "    fig = Figure(axes=[x_ax, y_ax], marks=[bar_chart]) \n",
    "    return fig \n",
    "\n"
   ]
  },
  {
   "cell_type": "code",
   "execution_count": 11,
   "metadata": {},
   "outputs": [
    {
     "data": {
      "application/vnd.jupyter.widget-view+json": {
       "model_id": "78fa510ec9b4418f819273b26389a7d2",
       "version_major": 2,
       "version_minor": 0
      },
      "text/plain": [
       "Figure(axes=[Axis(grid_lines='none', scale=OrdinalScale(), tick_rotate=-45, tick_style={'text-anchor': 'end'})…"
      ]
     },
     "metadata": {},
     "output_type": "display_data"
    }
   ],
   "source": [
    "code_barplot = bq_barplot(df_code)\n",
    "code_barplot"
   ]
  },
  {
   "cell_type": "markdown",
   "metadata": {},
   "source": [
    "# 3. Make an editable table using qgrid"
   ]
  },
  {
   "cell_type": "code",
   "execution_count": 12,
   "metadata": {},
   "outputs": [],
   "source": [
    "# Define qgrid widget\n",
    "qgrid.set_grid_option('maxVisibleRows', 10)\n",
    "col_opts = { \n",
    "    'editable': False,\n",
    "}"
   ]
  },
  {
   "cell_type": "code",
   "execution_count": 13,
   "metadata": {
    "scrolled": true
   },
   "outputs": [
    {
     "data": {
      "application/vnd.jupyter.widget-view+json": {
       "model_id": "c1428df3fb214a119edbf9dcee014caf",
       "version_major": 2,
       "version_minor": 0
      },
      "text/plain": [
       "QgridWidget(grid_options={'fullWidthRows': True, 'syncColumnCellResize': True, 'forceFitColumns': True, 'defau…"
      ]
     },
     "metadata": {},
     "output_type": "display_data"
    }
   ],
   "source": [
    "def on_row_selected(change):\n",
    "    \"\"\"callback for row selection: update selected points in scatter plot\"\"\"\n",
    "    filtered_df = qgrid_widget.get_changed_df()           \n",
    "    team_scatter.selected = filtered_df.iloc[change.new].index.tolist()\n",
    "\n",
    "# show_grid()    \n",
    "qgrid_widget = qgrid.show_grid(df, show_toolbar=True, column_options=col_opts)\n",
    "qgrid_widget.observe(on_row_selected, names=['_selected_rows'])\n",
    "qgrid_widget.layout = widgets.Layout(width='920px')\n",
    "qgrid_widget"
   ]
  },
  {
   "cell_type": "markdown",
   "metadata": {},
   "source": [
    "# 4. Interactive controls plot and table"
   ]
  },
  {
   "cell_type": "markdown",
   "metadata": {},
   "source": [
    "## widgets"
   ]
  },
  {
   "cell_type": "markdown",
   "metadata": {},
   "source": [
    "### 1) Filter data with slider"
   ]
  },
  {
   "cell_type": "code",
   "execution_count": 14,
   "metadata": {
    "scrolled": true
   },
   "outputs": [
    {
     "data": {
      "application/vnd.jupyter.widget-view+json": {
       "model_id": "93b4a055bfb144f6ba533ee3df33f9fc",
       "version_major": 2,
       "version_minor": 0
      },
      "text/plain": [
       "interactive(children=(Text(value='counts', description='column'), IntSlider(value=100, description='x', max=30…"
      ]
     },
     "metadata": {},
     "output_type": "display_data"
    }
   ],
   "source": [
    "@interact\n",
    "def show_errors_more_than(column='counts', x=100):\n",
    "    df_code = df['error_code'].value_counts().reset_index()\n",
    "    df_code.columns = ['error_code','counts']\n",
    "    display(HTML(f'<h3>Showing error_codes with more than {x} {column}<h3>'))\n",
    "    return df_code.loc[df_code[column] > x]\n",
    "    \n",
    "#qgrid_widget = qgrid.show_grid(df, show_toolbar=True, column_options=col_opts)\n",
    "#qgrid_widget.observe(on_row_selected, names=['_selected_rows'])\n",
    "#qgrid_widget.layout = widgets.Layout(width='920px')\n",
    " #  return qgrid_widget\n"
   ]
  },
  {
   "cell_type": "markdown",
   "metadata": {},
   "source": [
    "## 2) dropdown"
   ]
  },
  {
   "cell_type": "code",
   "execution_count": 15,
   "metadata": {},
   "outputs": [
    {
     "data": {
      "application/vnd.jupyter.widget-view+json": {
       "model_id": "f055b86e2fa5422a9006f7b1248ba60b",
       "version_major": 2,
       "version_minor": 0
      },
      "text/plain": [
       "Dropdown(description='Number:', options=('EX02', 'EX03', 'GL01', 'GL02', 'GL08', 'PR01', 'PR02', 'PR06', 'PR07…"
      ]
     },
     "metadata": {},
     "output_type": "display_data"
    }
   ],
   "source": [
    "#@interact\n",
    "Dropdown(\n",
    "    options=df_code.error_code.sort_values(),\n",
    "    #value='2',\n",
    "    description='Number:',\n",
    "    disabled=False,\n",
    ")\n",
    "\n"
   ]
  },
  {
   "cell_type": "markdown",
   "metadata": {},
   "source": [
    "## 3) Dependent widgets"
   ]
  },
  {
   "cell_type": "code",
   "execution_count": 16,
   "metadata": {
    "scrolled": true
   },
   "outputs": [
    {
     "data": {
      "image/png": "[encoded data removed]",
      "text/plain": [
       "<Figure size 432x288 with 1 Axes>"
      ]
     },
     "metadata": {
      "needs_background": "light"
     },
     "output_type": "display_data"
    },
    {
     "data": {
      "application/vnd.jupyter.widget-view+json": {
       "model_id": "23ad41a713ee49a3aa87bffdf064b882",
       "version_major": 2,
       "version_minor": 0
      },
      "text/plain": [
       "interactive(children=(FloatSlider(value=1.0, description='w', max=3.0, min=-1.0), Output()), _dom_classes=('wi…"
      ]
     },
     "metadata": {},
     "output_type": "display_data"
    },
    {
     "data": {
      "application/vnd.jupyter.widget-view+json": {
       "model_id": "16522a65900e415d8a4daff0cdfdbcc4",
       "version_major": 2,
       "version_minor": 0
      },
      "text/plain": [
       "interactive(children=(FloatSlider(value=1.0, description='w', max=3.0, min=-1.0), Output()), _dom_classes=('wi…"
      ]
     },
     "metadata": {},
     "output_type": "display_data"
    }
   ],
   "source": [
    "x = np.linspace(0, 2 * np.pi)\n",
    "fig = plt.figure()\n",
    "ax = fig.add_subplot(1, 1, 1)\n",
    "line, = ax.plot(x, np.sin(x))\n",
    "@interact\n",
    "def update(w = 1.0):\n",
    "    line.set_ydata(np.sin(w * x))\n",
    "    fig.canvas.draw_idle()\n",
    "\n",
    "interact(update);"
   ]
  },
  {
   "cell_type": "markdown",
   "metadata": {},
   "source": [
    "## 3) Layout"
   ]
  },
  {
   "cell_type": "code",
   "execution_count": 17,
   "metadata": {},
   "outputs": [
    {
     "data": {
      "application/vnd.jupyter.widget-view+json": {
       "model_id": "d30e1fbbd12f47f2852b54e285c27ef4",
       "version_major": 2,
       "version_minor": 0
      },
      "text/plain": [
       "AppLayout(children=(Text(value='layout', layout=Layout(grid_area='header')), Text(value='layout left', layout=…"
      ]
     },
     "metadata": {},
     "output_type": "display_data"
    }
   ],
   "source": [
    "AppLayout(header=widgets.Text('layout'),\n",
    "          left_sidebar= widgets.Text('layout left'),\n",
    "          center=widgets.IntSlider(min=-5, max=5, value=1, description='Slider'),\n",
    "          right_sidebar= widgets.Text('layout right'),\n",
    "          grid_gap='20px',\n",
    "          justify_items='center',\n",
    "          align_items='center')"
   ]
  },
  {
   "cell_type": "markdown",
   "metadata": {},
   "source": [
    "## 4. Capture widget output"
   ]
  },
  {
   "cell_type": "code",
   "execution_count": 18,
   "metadata": {},
   "outputs": [],
   "source": [
    "ALL = 'ALL'\n",
    "def unique_sorted_values_plus_ALL(array):\n",
    "    unique = array.unique().tolist()\n",
    "    unique.sort()\n",
    "    unique.insert(0, ALL)\n",
    "    return unique"
   ]
  },
  {
   "cell_type": "code",
   "execution_count": 19,
   "metadata": {},
   "outputs": [],
   "source": [
    "output= widgets.Output()\n",
    "plot_output=widgets.Output()\n",
    "# 1) define widgets\n",
    "dropdown_code = widgets.Dropdown(options = unique_sorted_values_plus_ALL(df_code.error_code))\n",
    "bounded_counts = widgets.BoundedFloatText(min=0, max= 10000, value=5,step=1, description ='Counts:')"
   ]
  },
  {
   "cell_type": "code",
   "execution_count": 20,
   "metadata": {},
   "outputs": [],
   "source": [
    "def common_filtering(code,counts):\n",
    "    output.clear_output()\n",
    "    plot_output.clear_output()\n",
    "    # no filtering\n",
    "    if (code ==ALL):\n",
    "        common_filter = df_code\n",
    "    # filter by code\n",
    "    else:\n",
    "        common_filter = df_code[df_code.error_code ==code]\n",
    "    # capture table output \n",
    "    with output:\n",
    "        display(common_filter)\n",
    "    # capture plot output \n",
    "    with plot_output:\n",
    "        sns.set(style=\"whitegrid\")\n",
    "        ax=sns.barplot(x='error_code', y='counts', data=common_filter)\n",
    "        plt.xticks(rotation=45)\n",
    "        plt.xlabel(\"Error code\")\n",
    "        plt.ylabel(\"Counts\")\n",
    "        plt.show()\n",
    "          "
   ]
  },
  {
   "cell_type": "code",
   "execution_count": 21,
   "metadata": {},
   "outputs": [],
   "source": [
    "def dropdown_code_eventhandler(change):\n",
    "    common_filtering(change.new,bounded_counts.value)\n",
    "def bounded_counts_eventhandler(change):\n",
    "    common_filtering(dropdown_code.value,change.new)      "
   ]
  },
  {
   "cell_type": "code",
   "execution_count": 22,
   "metadata": {},
   "outputs": [],
   "source": [
    "dropdown_code.observe(dropdown_code_eventhandler, names='value')\n",
    "bounded_counts.observe(bounded_counts_eventhandler,names='value')"
   ]
  },
  {
   "cell_type": "markdown",
   "metadata": {},
   "source": [
    "### Add dashboard layout"
   ]
  },
  {
   "cell_type": "code",
   "execution_count": 23,
   "metadata": {},
   "outputs": [],
   "source": [
    "input_widgets = widgets.HBox(\n",
    "[dropdown_code, bounded_counts])"
   ]
  },
  {
   "cell_type": "markdown",
   "metadata": {},
   "source": [
    "### Create a container for the output"
   ]
  },
  {
   "cell_type": "code",
   "execution_count": 24,
   "metadata": {
    "scrolled": true
   },
   "outputs": [],
   "source": [
    "tab = widgets.Tab([output, plot_output])\n",
    "tab.set_title(0, 'Dataset Exploration')\n",
    "tab.set_title(1, 'Bar Plot')"
   ]
  },
  {
   "cell_type": "markdown",
   "metadata": {},
   "source": [
    "### Stack a dashboard"
   ]
  },
  {
   "cell_type": "code",
   "execution_count": 25,
   "metadata": {},
   "outputs": [
    {
     "data": {
      "application/vnd.jupyter.widget-view+json": {
       "model_id": "b4d4036cde164cf5a49f4944c004a897",
       "version_major": 2,
       "version_minor": 0
      },
      "text/plain": [
       "VBox(children=(HBox(children=(Dropdown(options=('ALL', 'EX02', 'EX03', 'GL01', 'GL02', 'GL08', 'PR01', 'PR02',…"
      ]
     },
     "metadata": {},
     "output_type": "display_data"
    }
   ],
   "source": [
    "dashboard = widgets.VBox([input_widgets, tab])\n",
    "display(dashboard)"
   ]
  }
 ],
 "metadata": {
  "kernelspec": {
   "display_name": "Python 3",
   "language": "python",
   "name": "python3"
  },
  "language_info": {
   "codemirror_mode": {
    "name": "ipython",
    "version": 3
   },
   "file_extension": ".py",
   "mimetype": "text/x-python",
   "name": "python",
   "nbconvert_exporter": "python",
   "pygments_lexer": "ipython3",
   "version": "3.7.3"
  }
 },
 "nbformat": 4,
 "nbformat_minor": 2
}

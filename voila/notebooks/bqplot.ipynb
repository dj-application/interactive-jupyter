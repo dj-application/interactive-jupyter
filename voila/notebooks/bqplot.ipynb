{
 "cells": [
  {
   "cell_type": "markdown",
   "metadata": {},
   "source": [
    "# So easy, *voilà*!\n",
    "\n",
    "In this example notebook, we demonstrate how voila can render custom Jupyter widgets such as [bqplot](https://github.com/bloomberg/bqplot). "
   ]
  },
  {
   "cell_type": "code",
   "execution_count": 4,
   "metadata": {
    "scrolled": true
   },
   "outputs": [
    {
     "name": "stdout",
     "output_type": "stream",
     "text": [
      "Collecting bqplot\n",
      "\u001b[?25l  Downloading https://files.pythonhosted.org/packages/1a/16/3a1a0c7b6b8360c7039efe70f2aeb4529bec871e7d9b8fa0eb361662015e/bqplot-0.11.7-py2.py3-none-any.whl (1.7MB)\n",
      "\u001b[K    100% |████████████████████████████████| 1.7MB 4.0MB/s ta 0:00:01\n",
      "\u001b[?25hRequirement already satisfied: numpy>=1.10.4 in /Users/j/miniconda3/lib/python3.7/site-packages (from bqplot) (1.16.3)\n",
      "Requirement already satisfied: traitlets>=4.3.0 in /Users/j/miniconda3/lib/python3.7/site-packages (from bqplot) (4.3.2)\n",
      "Collecting traittypes>=0.0.6 (from bqplot)\n",
      "  Downloading https://files.pythonhosted.org/packages/9c/d1/8d5bd662703cc1764d986f6908a608777305946fa634d34c470cd4a1e729/traittypes-0.2.1-py2.py3-none-any.whl\n",
      "Requirement already satisfied: ipywidgets>=7.0.0a8 in /Users/j/miniconda3/lib/python3.7/site-packages (from bqplot) (7.4.2)\n",
      "Requirement already satisfied: pandas in /Users/j/miniconda3/lib/python3.7/site-packages (from bqplot) (0.24.2)\n",
      "Requirement already satisfied: six in /Users/j/miniconda3/lib/python3.7/site-packages (from traitlets>=4.3.0->bqplot) (1.10.0)\n",
      "Requirement already satisfied: ipython-genutils in /Users/j/miniconda3/lib/python3.7/site-packages (from traitlets>=4.3.0->bqplot) (0.2.0)\n",
      "Requirement already satisfied: decorator in /Users/j/miniconda3/lib/python3.7/site-packages (from traitlets>=4.3.0->bqplot) (4.4.0)\n",
      "Requirement already satisfied: ipykernel>=4.5.1 in /Users/j/miniconda3/lib/python3.7/site-packages (from ipywidgets>=7.0.0a8->bqplot) (5.1.0)\n",
      "Requirement already satisfied: widgetsnbextension~=3.4.0 in /Users/j/miniconda3/lib/python3.7/site-packages (from ipywidgets>=7.0.0a8->bqplot) (3.4.2)\n",
      "Requirement already satisfied: ipython>=4.0.0; python_version >= \"3.3\" in /Users/j/miniconda3/lib/python3.7/site-packages (from ipywidgets>=7.0.0a8->bqplot) (7.5.0)\n",
      "Requirement already satisfied: nbformat>=4.2.0 in /Users/j/miniconda3/lib/python3.7/site-packages (from ipywidgets>=7.0.0a8->bqplot) (4.4.0)\n",
      "Requirement already satisfied: python-dateutil>=2.5.0 in /Users/j/miniconda3/lib/python3.7/site-packages (from pandas->bqplot) (2.8.0)\n",
      "Requirement already satisfied: pytz>=2011k in /Users/j/miniconda3/lib/python3.7/site-packages (from pandas->bqplot) (2019.1)\n",
      "Requirement already satisfied: jupyter-client in /Users/j/miniconda3/lib/python3.7/site-packages (from ipykernel>=4.5.1->ipywidgets>=7.0.0a8->bqplot) (5.2.4)\n",
      "Requirement already satisfied: tornado>=4.2 in /Users/j/miniconda3/lib/python3.7/site-packages (from ipykernel>=4.5.1->ipywidgets>=7.0.0a8->bqplot) (6.0.2)\n",
      "Requirement already satisfied: notebook>=4.4.1 in /Users/j/miniconda3/lib/python3.7/site-packages (from widgetsnbextension~=3.4.0->ipywidgets>=7.0.0a8->bqplot) (5.7.8)\n",
      "Requirement already satisfied: jedi>=0.10 in /Users/j/miniconda3/lib/python3.7/site-packages (from ipython>=4.0.0; python_version >= \"3.3\"->ipywidgets>=7.0.0a8->bqplot) (0.13.3)\n",
      "Requirement already satisfied: backcall in /Users/j/miniconda3/lib/python3.7/site-packages (from ipython>=4.0.0; python_version >= \"3.3\"->ipywidgets>=7.0.0a8->bqplot) (0.1.0)\n",
      "Requirement already satisfied: appnope; sys_platform == \"darwin\" in /Users/j/miniconda3/lib/python3.7/site-packages (from ipython>=4.0.0; python_version >= \"3.3\"->ipywidgets>=7.0.0a8->bqplot) (0.1.0)\n",
      "Requirement already satisfied: prompt-toolkit<2.1.0,>=2.0.0 in /Users/j/miniconda3/lib/python3.7/site-packages (from ipython>=4.0.0; python_version >= \"3.3\"->ipywidgets>=7.0.0a8->bqplot) (2.0.9)\n",
      "Requirement already satisfied: pickleshare in /Users/j/miniconda3/lib/python3.7/site-packages (from ipython>=4.0.0; python_version >= \"3.3\"->ipywidgets>=7.0.0a8->bqplot) (0.7.5)\n",
      "Requirement already satisfied: pexpect; sys_platform != \"win32\" in /Users/j/miniconda3/lib/python3.7/site-packages (from ipython>=4.0.0; python_version >= \"3.3\"->ipywidgets>=7.0.0a8->bqplot) (4.7.0)\n",
      "Requirement already satisfied: setuptools>=18.5 in /Users/j/miniconda3/lib/python3.7/site-packages (from ipython>=4.0.0; python_version >= \"3.3\"->ipywidgets>=7.0.0a8->bqplot) (41.0.0)\n",
      "Requirement already satisfied: pygments in /Users/j/miniconda3/lib/python3.7/site-packages (from ipython>=4.0.0; python_version >= \"3.3\"->ipywidgets>=7.0.0a8->bqplot) (2.4.2)\n",
      "Requirement already satisfied: jupyter-core in /Users/j/miniconda3/lib/python3.7/site-packages (from nbformat>=4.2.0->ipywidgets>=7.0.0a8->bqplot) (4.4.0)\n",
      "Requirement already satisfied: jsonschema!=2.5.0,>=2.4 in /Users/j/miniconda3/lib/python3.7/site-packages (from nbformat>=4.2.0->ipywidgets>=7.0.0a8->bqplot) (3.0.1)\n",
      "Requirement already satisfied: pyzmq>=13 in /Users/j/miniconda3/lib/python3.7/site-packages (from jupyter-client->ipykernel>=4.5.1->ipywidgets>=7.0.0a8->bqplot) (18.0.0)\n",
      "Requirement already satisfied: terminado>=0.8.1 in /Users/j/miniconda3/lib/python3.7/site-packages (from notebook>=4.4.1->widgetsnbextension~=3.4.0->ipywidgets>=7.0.0a8->bqplot) (0.8.2)\n",
      "Requirement already satisfied: Send2Trash in /Users/j/miniconda3/lib/python3.7/site-packages (from notebook>=4.4.1->widgetsnbextension~=3.4.0->ipywidgets>=7.0.0a8->bqplot) (1.5.0)\n",
      "Requirement already satisfied: jinja2 in /Users/j/miniconda3/lib/python3.7/site-packages (from notebook>=4.4.1->widgetsnbextension~=3.4.0->ipywidgets>=7.0.0a8->bqplot) (2.10.1)\n",
      "Requirement already satisfied: nbconvert in /Users/j/miniconda3/lib/python3.7/site-packages (from notebook>=4.4.1->widgetsnbextension~=3.4.0->ipywidgets>=7.0.0a8->bqplot) (5.5.0)\n",
      "Requirement already satisfied: prometheus-client in /Users/j/miniconda3/lib/python3.7/site-packages (from notebook>=4.4.1->widgetsnbextension~=3.4.0->ipywidgets>=7.0.0a8->bqplot) (0.6.0)\n",
      "Requirement already satisfied: parso>=0.3.0 in /Users/j/miniconda3/lib/python3.7/site-packages (from jedi>=0.10->ipython>=4.0.0; python_version >= \"3.3\"->ipywidgets>=7.0.0a8->bqplot) (0.4.0)\n",
      "Requirement already satisfied: wcwidth in /Users/j/miniconda3/lib/python3.7/site-packages (from prompt-toolkit<2.1.0,>=2.0.0->ipython>=4.0.0; python_version >= \"3.3\"->ipywidgets>=7.0.0a8->bqplot) (0.1.7)\n",
      "Requirement already satisfied: ptyprocess>=0.5 in /Users/j/miniconda3/lib/python3.7/site-packages (from pexpect; sys_platform != \"win32\"->ipython>=4.0.0; python_version >= \"3.3\"->ipywidgets>=7.0.0a8->bqplot) (0.6.0)\n",
      "Requirement already satisfied: attrs>=17.4.0 in /Users/j/miniconda3/lib/python3.7/site-packages (from jsonschema!=2.5.0,>=2.4->nbformat>=4.2.0->ipywidgets>=7.0.0a8->bqplot) (19.1.0)\n",
      "Requirement already satisfied: pyrsistent>=0.14.0 in /Users/j/miniconda3/lib/python3.7/site-packages (from jsonschema!=2.5.0,>=2.4->nbformat>=4.2.0->ipywidgets>=7.0.0a8->bqplot) (0.14.11)\n",
      "Requirement already satisfied: MarkupSafe>=0.23 in /Users/j/miniconda3/lib/python3.7/site-packages (from jinja2->notebook>=4.4.1->widgetsnbextension~=3.4.0->ipywidgets>=7.0.0a8->bqplot) (1.1.1)\n",
      "Requirement already satisfied: entrypoints>=0.2.2 in /Users/j/miniconda3/lib/python3.7/site-packages (from nbconvert->notebook>=4.4.1->widgetsnbextension~=3.4.0->ipywidgets>=7.0.0a8->bqplot) (0.3)\n",
      "Requirement already satisfied: bleach in /Users/j/miniconda3/lib/python3.7/site-packages (from nbconvert->notebook>=4.4.1->widgetsnbextension~=3.4.0->ipywidgets>=7.0.0a8->bqplot) (3.1.0)\n",
      "Requirement already satisfied: testpath in /Users/j/miniconda3/lib/python3.7/site-packages (from nbconvert->notebook>=4.4.1->widgetsnbextension~=3.4.0->ipywidgets>=7.0.0a8->bqplot) (0.4.2)\n",
      "Requirement already satisfied: mistune>=0.8.1 in /Users/j/miniconda3/lib/python3.7/site-packages (from nbconvert->notebook>=4.4.1->widgetsnbextension~=3.4.0->ipywidgets>=7.0.0a8->bqplot) (0.8.4)\n",
      "Requirement already satisfied: defusedxml in /Users/j/miniconda3/lib/python3.7/site-packages (from nbconvert->notebook>=4.4.1->widgetsnbextension~=3.4.0->ipywidgets>=7.0.0a8->bqplot) (0.6.0)\n",
      "Requirement already satisfied: pandocfilters>=1.4.1 in /Users/j/miniconda3/lib/python3.7/site-packages (from nbconvert->notebook>=4.4.1->widgetsnbextension~=3.4.0->ipywidgets>=7.0.0a8->bqplot) (1.4.2)\n",
      "Requirement already satisfied: webencodings in /Users/j/miniconda3/lib/python3.7/site-packages (from bleach->nbconvert->notebook>=4.4.1->widgetsnbextension~=3.4.0->ipywidgets>=7.0.0a8->bqplot) (0.5.1)\n",
      "Installing collected packages: traittypes, bqplot\n",
      "Successfully installed bqplot-0.11.7 traittypes-0.2.1\n"
     ]
    }
   ],
   "source": [
    "!pip install bqplot"
   ]
  },
  {
   "cell_type": "code",
   "execution_count": 5,
   "metadata": {},
   "outputs": [],
   "source": [
    "import warnings\n",
    "warnings.filterwarnings('ignore')"
   ]
  },
  {
   "cell_type": "code",
   "execution_count": 9,
   "metadata": {},
   "outputs": [],
   "source": [
    "import numpy as np\n",
    "from bqplot import pyplot as plt\n",
    "\n",
    "plt.figure(1, title='Line Chart')\n",
    "np.random.seed(0)\n",
    "n = 200\n",
    "x = np.linspace(0.0, 10.0, n)\n",
    "y = np.cumsum(np.random.randn(n))\n",
    "plt.plot(x, y)\n",
    "plt.show()"
   ]
  },
  {
   "cell_type": "code",
   "execution_count": 10,
   "metadata": {},
   "outputs": [
    {
     "data": {
      "application/vnd.jupyter.widget-view+json": {
       "model_id": "1e29ae4648c74449a9681d47ed77542d",
       "version_major": 2,
       "version_minor": 0
      },
      "text/plain": [
       "VBox(children=(Figure(axes=[Axis(scale=LinearScale()), Axis(orientation='vertical', scale=LinearScale())], fig…"
      ]
     },
     "metadata": {},
     "output_type": "display_data"
    }
   ],
   "source": []
  },
  {
   "cell_type": "code",
   "execution_count": null,
   "metadata": {},
   "outputs": [],
   "source": []
  }
 ],
 "metadata": {
  "kernelspec": {
   "display_name": "Python 3",
   "language": "python",
   "name": "python3"
  },
  "language_info": {
   "codemirror_mode": {
    "name": "ipython",
    "version": 3
   },
   "file_extension": ".py",
   "mimetype": "text/x-python",
   "name": "python",
   "nbconvert_exporter": "python",
   "pygments_lexer": "ipython3",
   "version": "3.7.3"
  }
 },
 "nbformat": 4,
 "nbformat_minor": 2
}
